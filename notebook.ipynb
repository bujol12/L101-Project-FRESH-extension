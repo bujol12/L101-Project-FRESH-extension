{
 "cells": [
  {
   "cell_type": "code",
   "execution_count": 2,
   "metadata": {},
   "outputs": [],
   "source": [
    "import pandas as pd\n",
    "import numpy as np\n",
    "import matplotlib.pyplot as plt"
   ]
  },
  {
   "cell_type": "code",
   "execution_count": 116,
   "metadata": {},
   "outputs": [],
   "source": [
    "longformer_df = pd.read_json(\"/home/kdb36/L101-Project-FRESH-extension/outputs/movies/bert_classification/longformer/dev_out.jsonl\", lines=True)\n",
    "roberta_df = pd.read_json(\"/home/kdb36/L101-Project-FRESH-extension/outputs/movies/bert_classification/fresh/dev_out.jsonl\", lines=True)\n"
   ]
  },
  {
   "cell_type": "code",
   "execution_count": 117,
   "metadata": {},
   "outputs": [
    {
     "data": {
      "text/html": [
       "<div>\n",
       "<style scoped>\n",
       "    .dataframe tbody tr th:only-of-type {\n",
       "        vertical-align: middle;\n",
       "    }\n",
       "\n",
       "    .dataframe tbody tr th {\n",
       "        vertical-align: top;\n",
       "    }\n",
       "\n",
       "    .dataframe thead th {\n",
       "        text-align: right;\n",
       "    }\n",
       "</style>\n",
       "<table border=\"1\" class=\"dataframe\">\n",
       "  <thead>\n",
       "    <tr style=\"text-align: right;\">\n",
       "      <th></th>\n",
       "      <th>predicted_label</th>\n",
       "      <th>label</th>\n",
       "      <th>length</th>\n",
       "      <th>annotation_id</th>\n",
       "    </tr>\n",
       "  </thead>\n",
       "  <tbody>\n",
       "    <tr>\n",
       "      <th>0</th>\n",
       "      <td>NEG</td>\n",
       "      <td>NEG</td>\n",
       "      <td>701</td>\n",
       "      <td>negR_800.txt</td>\n",
       "    </tr>\n",
       "    <tr>\n",
       "      <th>1</th>\n",
       "      <td>NEG</td>\n",
       "      <td>NEG</td>\n",
       "      <td>340</td>\n",
       "      <td>negR_801.txt</td>\n",
       "    </tr>\n",
       "    <tr>\n",
       "      <th>2</th>\n",
       "      <td>NEG</td>\n",
       "      <td>NEG</td>\n",
       "      <td>475</td>\n",
       "      <td>negR_802.txt</td>\n",
       "    </tr>\n",
       "    <tr>\n",
       "      <th>3</th>\n",
       "      <td>NEG</td>\n",
       "      <td>NEG</td>\n",
       "      <td>1086</td>\n",
       "      <td>negR_803.txt</td>\n",
       "    </tr>\n",
       "    <tr>\n",
       "      <th>4</th>\n",
       "      <td>NEG</td>\n",
       "      <td>NEG</td>\n",
       "      <td>497</td>\n",
       "      <td>negR_804.txt</td>\n",
       "    </tr>\n",
       "  </tbody>\n",
       "</table>\n",
       "</div>"
      ],
      "text/plain": [
       "  predicted_label label  length annotation_id\n",
       "0             NEG   NEG     701  negR_800.txt\n",
       "1             NEG   NEG     340  negR_801.txt\n",
       "2             NEG   NEG     475  negR_802.txt\n",
       "3             NEG   NEG    1086  negR_803.txt\n",
       "4             NEG   NEG     497  negR_804.txt"
      ]
     },
     "execution_count": 117,
     "metadata": {},
     "output_type": "execute_result"
    }
   ],
   "source": [
    "roberta_df.head()"
   ]
  },
  {
   "cell_type": "code",
   "execution_count": 118,
   "metadata": {},
   "outputs": [],
   "source": [
    "longformer_df['tp'] = ((longformer_df['predicted_label'] == 'POS') & (longformer_df['label'] == 'POS')).astype(int)\n",
    "longformer_df['fp'] = ((longformer_df['predicted_label'] == 'POS') & (longformer_df['label'] != 'POS')).astype(int)\n",
    "longformer_df['tn'] = ((longformer_df['predicted_label'] == 'NEG') & (longformer_df['label'] == 'NEG')).astype(int)\n",
    "longformer_df['fn'] = ((longformer_df['predicted_label'] == 'NEG') & (longformer_df['label'] != 'NEG')).astype(int)\n",
    "\n",
    "roberta_df['tp'] = ((roberta_df['predicted_label'] == 'POS') & (roberta_df['label'] == 'POS')).astype(int)\n",
    "roberta_df['fp'] = ((roberta_df['predicted_label'] == 'POS') & (roberta_df['label'] != 'POS')).astype(int)\n",
    "roberta_df['tn'] = ((roberta_df['predicted_label'] == 'NEG') & (roberta_df['label'] == 'NEG')).astype(int)\n",
    "roberta_df['fn'] = ((roberta_df['predicted_label'] == 'NEG') & (roberta_df['label'] != 'NEG')).astype(int)"
   ]
  },
  {
   "cell_type": "code",
   "execution_count": 119,
   "metadata": {},
   "outputs": [
    {
     "name": "stderr",
     "output_type": "stream",
     "text": [
      "/tmp/ipykernel_2166173/1257265452.py:1: FutureWarning: The default value of numeric_only in DataFrameGroupBy.sum is deprecated. In a future version, numeric_only will default to False. Either specify numeric_only or select only columns which should be valid for the function.\n",
      "  grouped_longformer = longformer_df.groupby(pd.cut(longformer_df['length'], [0, 512, 4096])).sum()\n",
      "/tmp/ipykernel_2166173/1257265452.py:2: FutureWarning: The default value of numeric_only in DataFrameGroupBy.sum is deprecated. In a future version, numeric_only will default to False. Either specify numeric_only or select only columns which should be valid for the function.\n",
      "  grouped_roberta = roberta_df.groupby(pd.cut(roberta_df['length'], [0, 512, 4096])).sum()\n"
     ]
    }
   ],
   "source": [
    "grouped_longformer = longformer_df.groupby(pd.cut(longformer_df['length'], [0, 512, 4096])).sum()\n",
    "grouped_roberta = roberta_df.groupby(pd.cut(roberta_df['length'], [0, 512, 4096])).sum()\n",
    "\n",
    "grouped_longformer['f1'] = grouped_longformer['tp'] / (grouped_longformer['tp'] + 0.5*(grouped_longformer['fp'] + grouped_longformer['fn']))\n",
    "grouped_roberta['f1'] = grouped_roberta['tp'] / (grouped_roberta['tp'] + 0.5*(grouped_roberta['fp'] + grouped_roberta['fn']))  "
   ]
  },
  {
   "cell_type": "code",
   "execution_count": 120,
   "metadata": {},
   "outputs": [
    {
     "data": {
      "text/html": [
       "<div>\n",
       "<style scoped>\n",
       "    .dataframe tbody tr th:only-of-type {\n",
       "        vertical-align: middle;\n",
       "    }\n",
       "\n",
       "    .dataframe tbody tr th {\n",
       "        vertical-align: top;\n",
       "    }\n",
       "\n",
       "    .dataframe thead th {\n",
       "        text-align: right;\n",
       "    }\n",
       "</style>\n",
       "<table border=\"1\" class=\"dataframe\">\n",
       "  <thead>\n",
       "    <tr style=\"text-align: right;\">\n",
       "      <th></th>\n",
       "      <th>length</th>\n",
       "      <th>tp</th>\n",
       "      <th>fp</th>\n",
       "      <th>tn</th>\n",
       "      <th>fn</th>\n",
       "      <th>f1</th>\n",
       "    </tr>\n",
       "    <tr>\n",
       "      <th>length</th>\n",
       "      <th></th>\n",
       "      <th></th>\n",
       "      <th></th>\n",
       "      <th></th>\n",
       "      <th></th>\n",
       "      <th></th>\n",
       "    </tr>\n",
       "  </thead>\n",
       "  <tbody>\n",
       "    <tr>\n",
       "      <th>(0, 512]</th>\n",
       "      <td>16964</td>\n",
       "      <td>13</td>\n",
       "      <td>2</td>\n",
       "      <td>26</td>\n",
       "      <td>4</td>\n",
       "      <td>0.812500</td>\n",
       "    </tr>\n",
       "    <tr>\n",
       "      <th>(512, 4096]</th>\n",
       "      <td>135327</td>\n",
       "      <td>76</td>\n",
       "      <td>6</td>\n",
       "      <td>66</td>\n",
       "      <td>7</td>\n",
       "      <td>0.921212</td>\n",
       "    </tr>\n",
       "  </tbody>\n",
       "</table>\n",
       "</div>"
      ],
      "text/plain": [
       "             length  tp  fp  tn  fn        f1\n",
       "length                                       \n",
       "(0, 512]      16964  13   2  26   4  0.812500\n",
       "(512, 4096]  135327  76   6  66   7  0.921212"
      ]
     },
     "execution_count": 120,
     "metadata": {},
     "output_type": "execute_result"
    }
   ],
   "source": [
    "grouped_longformer"
   ]
  },
  {
   "cell_type": "code",
   "execution_count": 128,
   "metadata": {},
   "outputs": [
    {
     "data": {
      "text/plain": [
       "Text(0.5, 1.0, '$F_1$ Score for the positive class on the dev dataset')"
      ]
     },
     "execution_count": 128,
     "metadata": {},
     "output_type": "execute_result"
    },
    {
     "data": {
      "image/png": "[encoded data removed]",
      "text/plain": [
       "<Figure size 640x480 with 1 Axes>"
      ]
     },
     "metadata": {},
     "output_type": "display_data"
    }
   ],
   "source": [
    "res_df = pd.DataFrame({'roberta': grouped_roberta['f1'], 'longformer': grouped_longformer['f1']})\n",
    "ax = res_df.plot.bar()\n",
    "\n",
    "for container in ax.containers:\n",
    "    ax.bar_label(container, fmt='%.2f')\n",
    "\n",
    "plt.tight_layout()\n",
    "plt.legend(loc='lower left')\n",
    "plt.ylabel('$F_1$')\n",
    "plt.title(\"$F_1$ Score for the positive class on the dev dataset\")"
   ]
  },
  {
   "cell_type": "code",
   "execution_count": 39,
   "metadata": {},
   "outputs": [],
   "source": [
    "df_lengths = pd.read_json(\"/home/kdb36/L101-Project-FRESH-extension/outputs/movies/bert_classification/longformer/train_out.jsonl\", lines=True) \n",
    "df_rationale = pd.read_json(\"/home/kdb36/L101-Project-FRESH-extension/outputs/movies/bert_classification/longformer/wrapper_saliency/train.jsonl\", lines=True)"
   ]
  },
  {
   "cell_type": "code",
   "execution_count": 40,
   "metadata": {},
   "outputs": [
    {
     "data": {
      "text/plain": [
       "0       negR_000.txt\n",
       "1       negR_001.txt\n",
       "2       negR_002.txt\n",
       "3       negR_003.txt\n",
       "4       negR_004.txt\n",
       "            ...     \n",
       "1595    posR_795.txt\n",
       "1596    posR_796.txt\n",
       "1597    posR_797.txt\n",
       "1598    posR_798.txt\n",
       "1599    posR_799.txt\n",
       "Name: annotation_id, Length: 1600, dtype: object"
      ]
     },
     "execution_count": 40,
     "metadata": {},
     "output_type": "execute_result"
    }
   ],
   "source": [
    "df_lengths['annotation_id']"
   ]
  },
  {
   "cell_type": "code",
   "execution_count": 41,
   "metadata": {},
   "outputs": [],
   "source": [
    "df = df_lengths.merge(df_rationale, on='annotation_id')\n",
    "df['rationale_length'] = df['human_rationale'].apply(lambda x: sum([b-a for a,b in x]))"
   ]
  },
  {
   "cell_type": "code",
   "execution_count": 42,
   "metadata": {},
   "outputs": [
    {
     "data": {
      "text/html": [
       "<div>\n",
       "<style scoped>\n",
       "    .dataframe tbody tr th:only-of-type {\n",
       "        vertical-align: middle;\n",
       "    }\n",
       "\n",
       "    .dataframe tbody tr th {\n",
       "        vertical-align: top;\n",
       "    }\n",
       "\n",
       "    .dataframe thead th {\n",
       "        text-align: right;\n",
       "    }\n",
       "</style>\n",
       "<table border=\"1\" class=\"dataframe\">\n",
       "  <thead>\n",
       "    <tr style=\"text-align: right;\">\n",
       "      <th></th>\n",
       "      <th>predicted_label</th>\n",
       "      <th>length</th>\n",
       "      <th>annotation_id</th>\n",
       "      <th>human_rationale</th>\n",
       "      <th>document</th>\n",
       "      <th>label_y</th>\n",
       "      <th>saliency</th>\n",
       "      <th>rationale_length</th>\n",
       "    </tr>\n",
       "    <tr>\n",
       "      <th>label_x</th>\n",
       "      <th></th>\n",
       "      <th></th>\n",
       "      <th></th>\n",
       "      <th></th>\n",
       "      <th></th>\n",
       "      <th></th>\n",
       "      <th></th>\n",
       "      <th></th>\n",
       "    </tr>\n",
       "  </thead>\n",
       "  <tbody>\n",
       "    <tr>\n",
       "      <th>NEG</th>\n",
       "      <td>800</td>\n",
       "      <td>800</td>\n",
       "      <td>800</td>\n",
       "      <td>800</td>\n",
       "      <td>800</td>\n",
       "      <td>800</td>\n",
       "      <td>800</td>\n",
       "      <td>800</td>\n",
       "    </tr>\n",
       "    <tr>\n",
       "      <th>POS</th>\n",
       "      <td>800</td>\n",
       "      <td>800</td>\n",
       "      <td>800</td>\n",
       "      <td>800</td>\n",
       "      <td>800</td>\n",
       "      <td>800</td>\n",
       "      <td>800</td>\n",
       "      <td>800</td>\n",
       "    </tr>\n",
       "  </tbody>\n",
       "</table>\n",
       "</div>"
      ],
      "text/plain": [
       "         predicted_label  length  annotation_id  human_rationale  document  \\\n",
       "label_x                                                                      \n",
       "NEG                  800     800            800              800       800   \n",
       "POS                  800     800            800              800       800   \n",
       "\n",
       "         label_y  saliency  rationale_length  \n",
       "label_x                                       \n",
       "NEG          800       800               800  \n",
       "POS          800       800               800  "
      ]
     },
     "execution_count": 42,
     "metadata": {},
     "output_type": "execute_result"
    }
   ],
   "source": [
    "df.groupby('label_x').count()"
   ]
  },
  {
   "cell_type": "code",
   "execution_count": null,
   "metadata": {},
   "outputs": [],
   "source": []
  }
 ],
 "metadata": {
  "kernelspec": {
   "display_name": "fresh",
   "language": "python",
   "name": "python3"
  },
  "language_info": {
   "codemirror_mode": {
    "name": "ipython",
    "version": 3
   },
   "file_extension": ".py",
   "mimetype": "text/x-python",
   "name": "python",
   "nbconvert_exporter": "python",
   "pygments_lexer": "ipython3",
   "version": "3.8.15"
  },
  "orig_nbformat": 4,
  "vscode": {
   "interpreter": {
    "hash": "97bd81bf1fcc82e05882ba3d7b3cd3ad17b4fa5c1c9777114ff4a31626e9b670"
   }
  }
 },
 "nbformat": 4,
 "nbformat_minor": 2
}
